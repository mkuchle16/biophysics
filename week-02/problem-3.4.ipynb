{
 "cells": [
  {
   "cell_type": "markdown",
   "metadata": {},
   "source": [
    "# Problem 3.4\n",
    "\n",
    "This problem explores the \"Gambler's Fallacy\" --- the idea that after a string of losses, you are \"due\" for a win.\n",
    "\n",
    "We will represent __heads__ by $+1$ and __tails__ by $-1$.  The variable $X$ is the sum of ten such flips of a coin: the number of heads minus the number of tails."
   ]
  },
  {
   "cell_type": "code",
   "execution_count": 2,
   "metadata": {},
   "outputs": [],
   "source": [
    "# Standard setup\n",
    "import numpy as np\n",
    "import matplotlib.pyplot as plt\n",
    "\n",
    "# Get a random number generator.\n",
    "from numpy.random import default_rng\n",
    "rng = default_rng()\n",
    "rand = rng.random"
   ]
  },
  {
   "cell_type": "markdown",
   "metadata": {},
   "source": [
    "Verify that the following code generates a sequence of 10 flips, as described in the problem.  Briefly explain how it works.\n",
    "\n",
    "-----"
   ]
  },
  {
   "cell_type": "code",
   "execution_count": 3,
   "metadata": {},
   "outputs": [
    {
     "name": "stdout",
     "output_type": "stream",
     "text": [
      "Coin flips:  [-1  1 -1 -1 -1  1 -1 -1 -1  1]\n",
      "Sum: X= -4\n"
     ]
    }
   ],
   "source": [
    "flips = 2*(rand(10) < 0.5) - 1\n",
    "X = flips.sum()\n",
    "\n",
    "print(\"Coin flips: \", flips)\n",
    "print(\"Sum: X=\", X)"
   ]
  },
  {
   "cell_type": "markdown",
   "metadata": {},
   "source": [
    "The cell above generates an array of 10 coin flips represented by +1 (heads) and -1 (tails). Ten random numbers between 0 and 1 are generated where heads are values between 0 and 0.49 and tails are values between 0.5 and 1. The 'flips' equation generates 10 coin flips and creates a boolean array. This boolean array is then translated into -1 and +1 by multiplying by two and subtracting one. The contents of the array is then summed up to determine if more heads or tails flips existed during the test. "
   ]
  },
  {
   "cell_type": "markdown",
   "metadata": {},
   "source": [
    "------\n",
    "\n",
    "## (a)\n",
    "\n",
    "Fill in the necessary Python code below."
   ]
  },
  {
   "cell_type": "code",
   "execution_count": 18,
   "metadata": {},
   "outputs": [
    {
     "name": "stdout",
     "output_type": "stream",
     "text": [
      "There were 5 trials that started with 5 heads.\n",
      "The average of X for these trials was <X>= 5.2000.\n"
     ]
    }
   ],
   "source": [
    "# Define the problem.\n",
    "Ntrials = 200\n",
    "Nflips = 10\n",
    "Nstart = 5\n",
    "\n",
    "# Create an array to store the data we want.\n",
    "data = np.zeros(Ntrials)\n",
    "count = 0\n",
    "\n",
    "# Generate Ntrials sequences of Nflips coin flips, and sum.\n",
    "for n in range(Ntrials):\n",
    "    flips = 2*(rand(Nflips) < 0.5) - 1\n",
    "    X = flips.sum()\n",
    "    \n",
    "    # Replace \"if True:\" with a conditional statement that will do the following.\n",
    "    #    IF the first Nstart flips are heads, store X in \"data\" and increment \"count\".\n",
    "    #    OTHERWISE, do nothing and continue to the next trial.\n",
    "    if flips[0:Nstart].sum() == 5:\n",
    "        data[count] = X\n",
    "        count += 1\n",
    "    else:\n",
    "        pass\n",
    "# Now use the data set to answer the question.\n",
    "if count == 0:\n",
    "    print(\"No trials started with {} heads.\".format(Nstart))\n",
    "else:\n",
    "    avgX = data[:count].sum() / count\n",
    "    print (\"There were {} trials that started with {} heads.\".format(count,Nstart))\n",
    "    print(\"The average of X for these trials was <X>= {:.4f}.\".format(avgX))\n"
   ]
  },
  {
   "cell_type": "markdown",
   "metadata": {},
   "source": [
    "Run your code several times.  What patterns do you observe?\n",
    "\n",
    "-----"
   ]
  },
  {
   "cell_type": "markdown",
   "metadata": {},
   "source": [
    "Running the code for 200 trials showed that very few (<10) trials started with 5 heads from the coin flip. "
   ]
  },
  {
   "cell_type": "markdown",
   "metadata": {},
   "source": [
    "-----\n",
    "\n",
    "## (b)\n",
    "\n",
    "Repeat for `Ntrials = 2000` and `Ntrials = 8000`.\n",
    "\n",
    "> Does the answer seem to be converging to zero, as predicted in the quoted text above? Whatever your answer, give some explanation for why the answer you found should have been expected.\n",
    "\n",
    "-----"
   ]
  },
  {
   "cell_type": "markdown",
   "metadata": {},
   "source": [
    "Running the coin flip code for Ntrials = 2000 and Ntrials = 8000 shows little change in the average value of X. This indicated that over long term trials the value of X does not converge towards zero as it is remaining fairly consistent. Although, the average value of X is remaining around 5 which indicates that there are tails flips occuring in the second 5 flips but they are more or less being balanced out by other heads flips. "
   ]
  },
  {
   "cell_type": "markdown",
   "metadata": {},
   "source": [
    "-----\n",
    "\n",
    "## (c)\n",
    "\n",
    "Explore regression to the mean, as described in the problem text."
   ]
  },
  {
   "cell_type": "code",
   "execution_count": 19,
   "metadata": {},
   "outputs": [
    {
     "name": "stdout",
     "output_type": "stream",
     "text": [
      "There were 1615 trials that started with 5 heads.\n",
      "The average of X for these trials was <X>= 4.1721.\n"
     ]
    }
   ],
   "source": [
    "Ntrials = 50000\n",
    "Nflips = 2500\n",
    "Nstart = 5\n",
    "\n",
    "# Create an array to store the data we want.\n",
    "data = np.zeros(Ntrials)\n",
    "count = 0\n",
    "\n",
    "# Generate Ntrials sequences of Nflips coin flips, and sum.\n",
    "for n in range(Ntrials):\n",
    "    flips = 2*(rand(Nflips) < 0.5) - 1\n",
    "    X = flips.sum()\n",
    "    \n",
    "    # Replace \"if True:\" with a conditional statement that will do the following.\n",
    "    #    IF the first Nstart flips are heads, store X in \"data\" and increment \"count\".\n",
    "    #    OTHERWISE, do nothing and continue to the next trial.\n",
    "    if flips[0:Nstart].sum() == 5:\n",
    "        data[count] = X\n",
    "        count += 1\n",
    "    else:\n",
    "        pass\n",
    "# Now use the data set to answer the question.\n",
    "if count == 0:\n",
    "    print(\"No trials started with {} heads.\".format(Nstart))\n",
    "else:\n",
    "    avgX = data[:count].sum() / count\n",
    "    print (\"There were {} trials that started with {} heads.\".format(count,Nstart))\n",
    "    print(\"The average of X for these trials was <X>= {:.4f}.\".format(avgX))\n"
   ]
  },
  {
   "cell_type": "markdown",
   "metadata": {},
   "source": [
    "Comment on your observations.\n",
    "\n",
    "-----"
   ]
  },
  {
   "cell_type": "markdown",
   "metadata": {},
   "source": [
    "Increasing NFlips has little effect on the number of trials that start with 5 heads but does impact the overall average X for that set of trials. In general it seems that there is a wider range on the average value of X as the nummber of Nflips increases. The average value of X fluctuates more each time the code is run for high values of Nflips. "
   ]
  },
  {
   "cell_type": "markdown",
   "metadata": {},
   "source": [
    "-----\n",
    "\n",
    "## (d)\n",
    "\n",
    "Evaluate the ___spread___ of $X$ for large numbers of trials, as described in the text."
   ]
  },
  {
   "cell_type": "code",
   "execution_count": 44,
   "metadata": {},
   "outputs": [
    {
     "name": "stdout",
     "output_type": "stream",
     "text": [
      "Starting trails with 10 flips\n",
      "There were 1609 trials that started with 5 heads.\n",
      "The average of X for these trials was <X>= 5.0392.\n",
      "The spread of X for these trials was Xspread =  [1.03915475 5.03915475 3.03915475 ... 1.03915475 0.96084525 1.03915475]\n",
      "The average spread of X is  1.8816577509742627\n",
      "\n",
      "Starting trails with 100 flips\n",
      "There were 3110 trials that started with 5 heads.\n",
      "The average of X for these trials was <X>= 5.1666.\n",
      "The spread of X for these trials was Xspread =  [ 1.16655949  5.16655949  3.16655949 ...  1.16655949 10.83344051\n",
      "  4.83344051]\n",
      "The average spread of X is  4.695929115703932\n",
      "\n",
      "Starting trails with 500 flips\n",
      "There were 4690 trials that started with 5 heads.\n",
      "The average of X for these trials was <X>= 5.0857.\n",
      "The spread of X for these trials was Xspread =  [ 1.08571429  5.08571429  3.08571429 ... 12.91428571  9.08571429\n",
      "  4.91428571]\n",
      "The average spread of X is  9.005105086810845\n",
      "\n",
      "Starting trails with 2500 flips\n",
      "There were 6270 trials that started with 5 heads.\n",
      "The average of X for these trials was <X>= 4.6581.\n",
      "The spread of X for these trials was Xspread =  [ 0.65805423  4.65805423  2.65805423 ... 17.34194577  5.34194577\n",
      " 34.65805423]\n",
      "The average spread of X is  16.64429497696685\n",
      "\n"
     ]
    }
   ],
   "source": [
    "Ntrials = 50000\n",
    "#Nflips = np.array([10,100,500,2500])\n",
    "Nstart = 5\n",
    "Flips = np.array([10,100,500,2500])\n",
    "# Create an array to store the data we want.\n",
    "data = np.zeros(Ntrials)\n",
    "count = 0\n",
    "for Nflips in Flips:\n",
    "# Generate Ntrials sequences of Nflips coin flips, and sum.\n",
    "# Initiate each trial and print the number of flips tested \n",
    "    print(\"Starting trails with {} flips\".format(Nflips))\n",
    "    for n in range(Ntrials):\n",
    "        flips = 2*(rand(Nflips) < 0.5) - 1\n",
    "        X = flips.sum()\n",
    "\n",
    "        # Replace \"if True:\" with a conditional statement that will do the following.\n",
    "        #    IF the first Nstart flips are heads, store X in \"data\" and increment \"count\".\n",
    "        #    OTHERWISE, do nothing and continue to the next trial.\n",
    "        if flips[0:Nstart].sum() == 5:\n",
    "            data[count] = X\n",
    "            count += 1\n",
    "        else:\n",
    "            pass\n",
    "    # Now use the data set to answer the question.\n",
    "    if count == 0:\n",
    "        print(\"No trials started with {} heads.\".format(Nstart))\n",
    "    else:\n",
    "        avgX = data[:count].sum() / count\n",
    "        print (\"There were {} trials that started with {} heads.\".format(count,Nstart))\n",
    "        print(\"The average of X for these trials was <X>= {:.4f}.\".format(avgX))\n",
    "    #Calculate spread and average spread and print the results\n",
    "    Xspread = np.sqrt((data[:count] - avgX)**2)\n",
    "    avgSpread = Xspread.sum()/ len(Xspread)\n",
    "    print(\"The spread of X for these trials was Xspread = \",Xspread)\n",
    "    print(\"The average spread of X is \",avgSpread)\n",
    "    print()"
   ]
  },
  {
   "cell_type": "markdown",
   "metadata": {},
   "source": [
    "Comment on your observations.\n",
    "\n",
    "-----"
   ]
  },
  {
   "cell_type": "markdown",
   "metadata": {},
   "source": [
    "Running the trials with Ntrials = 50000 for a variety of number of flips shows little fluctuation in the average value of X but a steady increase in the average spread of X as the number of flips increases. "
   ]
  },
  {
   "cell_type": "markdown",
   "metadata": {},
   "source": [
    "_____\n",
    "\n",
    "## (e)\n",
    "\n",
    "Discuss which proposition better describes your findings.\n",
    "\n",
    "> If the first N flips are heads, the next series flips will be more than half tails, in order to pull X closer to zero, because X ‘wants’ to be zero on average.\n",
    "\n",
    "... or ...\n",
    "\n",
    "> The effect of unusual past behavior doesn’t disappear; it just gets diluted as time goes on.\n",
    "\n",
    "-----"
   ]
  },
  {
   "cell_type": "markdown",
   "metadata": {},
   "source": [
    "The findings shown in the above trials is best described by the second statment. Given that the overall average value of X for each trial that starts with 5 heads is not moving towards zero and is instead remaining fairly consistent it would seem that the overall effect of unusual past behavior doesn't disappear but will get dilluted. As we see with the tests that increase the amount of flips the overall average value of X stays consistent with the previous tests but the spread of values vs the mean increases due to the effect of randomness in such large datasets. "
   ]
  },
  {
   "cell_type": "code",
   "execution_count": null,
   "metadata": {},
   "outputs": [],
   "source": []
  }
 ],
 "metadata": {
  "kernelspec": {
   "display_name": "Python 3",
   "language": "python",
   "name": "python3"
  },
  "language_info": {
   "codemirror_mode": {
    "name": "ipython",
    "version": 3
   },
   "file_extension": ".py",
   "mimetype": "text/x-python",
   "name": "python",
   "nbconvert_exporter": "python",
   "pygments_lexer": "ipython3",
   "version": "3.8.5"
  }
 },
 "nbformat": 4,
 "nbformat_minor": 5
}
