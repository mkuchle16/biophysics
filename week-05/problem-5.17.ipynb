{
 "cells": [
  {
   "cell_type": "markdown",
   "metadata": {},
   "source": [
    "# Problem 5.17\n",
    "\n",
    "___This problem is only required for 507 and Honors students.  It will be counted as extra credit for all others.___\n",
    "\n",
    "Use this notebook to present your work on the problem.  If you write scripts, store them in this folder and run them within this notebook to produce the requested histograms and graphs."
   ]
  },
  {
   "cell_type": "code",
   "execution_count": 44,
   "metadata": {},
   "outputs": [],
   "source": [
    "import numpy as np \n",
    "import matplotlib.pyplot as plt\n",
    "import scipy as sc \n",
    "from scipy.integrate import quad"
   ]
  },
  {
   "cell_type": "markdown",
   "metadata": {},
   "source": [
    "## (a) Cauchy distribution"
   ]
  },
  {
   "cell_type": "code",
   "execution_count": 18,
   "metadata": {},
   "outputs": [
    {
     "name": "stdout",
     "output_type": "stream",
     "text": [
      "FWHM for the distribution below is: 2\n"
     ]
    },
    {
     "data": {
      "image/png": "[encoded data removed]",
      "text/plain": [
       "<Figure size 432x288 with 1 Axes>"
      ]
     },
     "metadata": {
      "needs_background": "light"
     },
     "output_type": "display_data"
    }
   ],
   "source": [
    "u_x = 0 \n",
    "eta = 1\n",
    "A = 1\n",
    "x = np.linspace(-10,10,101)\n",
    "p_cauchy = A/(1+((x-u_x)/eta)**2)\n",
    "plt.plot(x,p_cauchy)\n",
    "\n",
    "FWHM = 2*eta\n",
    "print(\"FWHM for the distribution below is: {}\".format(FWHM))"
   ]
  },
  {
   "cell_type": "markdown",
   "metadata": {},
   "source": [
    "## (b) Gaussian distribution"
   ]
  },
  {
   "cell_type": "markdown",
   "metadata": {},
   "source": [
    "The FWHM of the gaussian distribution is found by solving for the values of x where $f(x) = 1/2 * f(x)_{max}$. We know that at f(x_max) is at $x_{max} = u$ we can then solve the equation of the guassian distribution and see that FWHM = $2*sqrt(2*ln(2))*sigma$ where $sigma$ is the standard deviation of the distribution. This roughly translates to FWHM = 2.3548 * $\\sigma$. "
   ]
  },
  {
   "cell_type": "markdown",
   "metadata": {},
   "source": [
    "If we want this FWHM to match the FWHM from the cauchy distribution we need to find the value of $\\sigma$ that yields FWHM = 2"
   ]
  },
  {
   "cell_type": "code",
   "execution_count": 19,
   "metadata": {},
   "outputs": [
    {
     "name": "stdout",
     "output_type": "stream",
     "text": [
      "The Standard Deviation that gives a FWHM of 2 is 0.8493290300662477\n"
     ]
    }
   ],
   "source": [
    "FWHM = 2\n",
    "sigma = 2/2.3548\n",
    "print('The Standard Deviation that gives a FWHM of 2 is {}'.format(sigma))"
   ]
  },
  {
   "cell_type": "code",
   "execution_count": 45,
   "metadata": {},
   "outputs": [
    {
     "data": {
      "text/plain": [
       "[<matplotlib.lines.Line2D at 0x1d8e2b70070>]"
      ]
     },
     "execution_count": 45,
     "metadata": {},
     "output_type": "execute_result"
    },
    {
     "data": {
      "image/png": "[encoded data removed]",
      "text/plain": [
       "<Figure size 432x288 with 1 Axes>"
      ]
     },
     "metadata": {
      "needs_background": "light"
     },
     "output_type": "display_data"
    }
   ],
   "source": [
    "# Plotting a gaussian with FWHM = 2 and expectation of 0\n",
    "x1 = np.linspace(-5,5,101)\n",
    "mu = 0 \n",
    "gaussian = (1/(sigma*np.sqrt(2*3.14)))*np.exp(-(x1 - mu)**2 / (2*sigma**2))\n",
    "plt.plot(x,gaussian)"
   ]
  },
  {
   "cell_type": "markdown",
   "metadata": {},
   "source": [
    "## (c) $P(|x| > FWHM/2)$ for Cauchy distribution"
   ]
  },
  {
   "cell_type": "code",
   "execution_count": 46,
   "metadata": {},
   "outputs": [
    {
     "data": {
      "text/plain": [
       "0.04360825870472735"
      ]
     },
     "execution_count": 46,
     "metadata": {},
     "output_type": "execute_result"
    }
   ],
   "source": [
    "FWMH = 2\n",
    "p_absx = np.array(np.abs(x) > FWHM/2) \n",
    "p_absx[0:40]\n",
    "p_absx[61:-1]\n",
    "P_x = (p_cauchy[0:40].sum() + p_cauchy[61:-1].sum())/(len(p_cauchy[0:40])+len(p_cauchy[61:-1]))\n",
    "P_x"
   ]
  },
  {
   "cell_type": "markdown",
   "metadata": {},
   "source": [
    "## (d) $P(|x| > FWHM/2)$ for Gaussian distribution"
   ]
  },
  {
   "cell_type": "code",
   "execution_count": 62,
   "metadata": {},
   "outputs": [],
   "source": [
    "p_absx_g = np.array(np.abs(x1) > FWHM/2)\n",
    "p_absx_g[0:40]\n",
    "\n",
    "lower_lim_l = x1[0]\n",
    "upper_lim_l = x1[40]\n",
    "\n",
    "lower_lim_r = x1[61]\n",
    "upper_lim_r = x1[-1]"
   ]
  },
  {
   "cell_type": "code",
   "execution_count": 64,
   "metadata": {},
   "outputs": [
    {
     "name": "stdout",
     "output_type": "stream",
     "text": [
      "0.21720897500881098\n"
     ]
    }
   ],
   "source": [
    "def integrand(x):\n",
    "    return (1/(sigma*np.sqrt(2*3.14)))*np.exp(-(x - 0)**2 / (2*sigma**2))\n",
    "ans_left,error_left = quad(integrand,lower_lim_l,upper_lim_l)\n",
    "ans_right,error_right = quad(integrand,lower_lim_r,upper_lim_r)\n",
    "P_absx_g = ans_left+ans_right\n",
    "print(P_absx_g)"
   ]
  },
  {
   "cell_type": "markdown",
   "metadata": {},
   "source": [
    "## (e) $P(|x| > 1.5 \\, FWHM)$ for Cauchy and Gaussian distributions"
   ]
  },
  {
   "cell_type": "code",
   "execution_count": 72,
   "metadata": {},
   "outputs": [
    {
     "data": {
      "text/plain": [
       "0.016102564065846935"
      ]
     },
     "execution_count": 72,
     "metadata": {},
     "output_type": "execute_result"
    }
   ],
   "source": [
    "FWMH = 2\n",
    "p_absx = np.array(np.abs(x) > FWHM*1.5) \n",
    "p_absx[0:20]\n",
    "p_absx[81:-1]\n",
    "P_x = (p_cauchy[0:20].sum() + p_cauchy[81:-1].sum())/(len(p_cauchy[0:20])+len(p_cauchy[81:-1]))\n",
    "P_x"
   ]
  },
  {
   "cell_type": "code",
   "execution_count": 73,
   "metadata": {},
   "outputs": [],
   "source": [
    "p_absx_g = np.array(np.abs(x1) > FWHM*1.5)\n",
    "\n",
    "lower_lim_l = x1[0]\n",
    "upper_lim_l = x1[20]\n",
    "\n",
    "lower_lim_r = x1[81]\n",
    "upper_lim_r = x1[-1]"
   ]
  },
  {
   "cell_type": "code",
   "execution_count": 74,
   "metadata": {},
   "outputs": [
    {
     "name": "stdout",
     "output_type": "stream",
     "text": [
      "0.0003372911292300328\n"
     ]
    }
   ],
   "source": [
    "def integrand(x):\n",
    "    return (1/(sigma*np.sqrt(2*3.14)))*np.exp(-(x - 0)**2 / (2*sigma**2))\n",
    "ans_left,error_left = quad(integrand,lower_lim_l,upper_lim_l)\n",
    "ans_right,error_right = quad(integrand,lower_lim_r,upper_lim_r)\n",
    "P_absx_g = ans_left+ans_right\n",
    "print(P_absx_g)"
   ]
  },
  {
   "cell_type": "markdown",
   "metadata": {},
   "source": [
    "## (f) Interquartile range"
   ]
  },
  {
   "cell_type": "code",
   "execution_count": 75,
   "metadata": {},
   "outputs": [
    {
     "name": "stdout",
     "output_type": "stream",
     "text": [
      "0.11184759953120509\n"
     ]
    }
   ],
   "source": [
    "#Cauchy Distribution\n",
    "u_x = 0 \n",
    "eta = 1\n",
    "A = 1\n",
    "x = np.linspace(-10,10,101)\n",
    "p_cauchy = A/(1+((x-u_x)/eta)**2)\n",
    "q3,q1 = np.percentile(p_cauchy,[75,25])\n",
    "IQR = q3-q1\n",
    "print(IQR)"
   ]
  },
  {
   "cell_type": "code",
   "execution_count": 76,
   "metadata": {},
   "outputs": [
    {
     "name": "stdout",
     "output_type": "stream",
     "text": [
      "The Standard Deviation that gives a FWHM of 2 is 0.04749770661253826\n"
     ]
    },
    {
     "data": {
      "text/plain": [
       "[<matplotlib.lines.Line2D at 0x1d8e2c22280>]"
      ]
     },
     "execution_count": 76,
     "metadata": {},
     "output_type": "execute_result"
    },
    {
     "data": {
      "image/png": "[encoded data removed]",
      "text/plain": [
       "<Figure size 432x288 with 1 Axes>"
      ]
     },
     "metadata": {
      "needs_background": "light"
     },
     "output_type": "display_data"
    }
   ],
   "source": [
    "#Finding Gaussian with same IQR\n",
    "sigma = IQR/2.3548\n",
    "print('The Standard Deviation that gives a FWHM of 2 is {}'.format(sigma))\n",
    "\n",
    "x1 = np.linspace(-5,5,101)\n",
    "mu = 0 \n",
    "gaussian = (1/(sigma*np.sqrt(2*3.14)))*np.exp(-(x1 - mu)**2 / (2*sigma**2))\n",
    "plt.plot(x,gaussian)"
   ]
  },
  {
   "cell_type": "code",
   "execution_count": 83,
   "metadata": {},
   "outputs": [
    {
     "data": {
      "text/plain": [
       "0.13849708479839076"
      ]
     },
     "execution_count": 83,
     "metadata": {},
     "output_type": "execute_result"
    }
   ],
   "source": [
    "#Cauchy with P(abs(x)>IQR/2)\n",
    "p_absx = np.array(np.abs(x) > IQR/2) \n",
    "p_absx\n",
    "p_absx[0:50]\n",
    "p_absx[51:-1]\n",
    "P_x = (p_cauchy[0:50].sum() + p_cauchy[51:-1].sum())/(len(p_cauchy[0:50])+len(p_cauchy[51:-1]))\n",
    "P_x"
   ]
  },
  {
   "cell_type": "code",
   "execution_count": 84,
   "metadata": {},
   "outputs": [],
   "source": [
    "#Gaussian with P(abs(x)>IQR/2)\n",
    "p_absx_g = np.array(np.abs(x1) > IQR/2)\n",
    "\n",
    "lower_lim_l = x1[0]\n",
    "upper_lim_l = x1[50]\n",
    "\n",
    "lower_lim_r = x1[51]\n",
    "upper_lim_r = x1[-1]"
   ]
  },
  {
   "cell_type": "code",
   "execution_count": 88,
   "metadata": {},
   "outputs": [
    {
     "name": "stdout",
     "output_type": "stream",
     "text": [
      "0.0\n"
     ]
    }
   ],
   "source": [
    "def integrand(x):\n",
    "    return (1/(sigma*np.sqrt(2*3.14)))*np.exp(-(x - 0)**2 / (2*sigma**2))\n",
    "ans_left,error_left = quad(integrand,lower_lim_l,upper_lim_l)\n",
    "ans_right,error_right = quad(integrand,lower_lim_r,upper_lim_r)\n",
    "P_absx_g = ans_left+ans_right\n",
    "print(P_absx_g)"
   ]
  },
  {
   "cell_type": "code",
   "execution_count": 95,
   "metadata": {},
   "outputs": [
    {
     "data": {
      "text/plain": [
       "0.13849708479839076"
      ]
     },
     "execution_count": 95,
     "metadata": {},
     "output_type": "execute_result"
    }
   ],
   "source": [
    "#Repeat Cauchy with IQR*1.5\n",
    "p_absx = np.array(np.abs(x) > IQR*1.5) \n",
    "p_absx\n",
    "p_absx[0:50]\n",
    "p_absx[51:-1]\n",
    "P_x = (p_cauchy[0:50].sum() + p_cauchy[51:-1].sum())/(len(p_cauchy[0:50])+len(p_cauchy[51:-1]))\n",
    "P_x"
   ]
  },
  {
   "cell_type": "code",
   "execution_count": 97,
   "metadata": {},
   "outputs": [
    {
     "data": {
      "text/plain": [
       "0.16777139929680762"
      ]
     },
     "execution_count": 97,
     "metadata": {},
     "output_type": "execute_result"
    }
   ],
   "source": [
    "p_absx_g = np.array(np.abs(x1) > IQR/2)\n",
    "\n",
    "lower_lim_l = x1[0]\n",
    "upper_lim_l = x1[50]\n",
    "\n",
    "lower_lim_r = x1[51]\n",
    "upper_lim_r = x1[-1]"
   ]
  },
  {
   "cell_type": "code",
   "execution_count": 98,
   "metadata": {},
   "outputs": [
    {
     "name": "stdout",
     "output_type": "stream",
     "text": [
      "0.0\n"
     ]
    }
   ],
   "source": [
    "def integrand(x):\n",
    "    return (1/(sigma*np.sqrt(2*3.14)))*np.exp(-(x - 0)**2 / (2*sigma**2))\n",
    "ans_left,error_left = quad(integrand,lower_lim_l,upper_lim_l)\n",
    "ans_right,error_right = quad(integrand,lower_lim_r,upper_lim_r)\n",
    "P_absx_g = ans_left+ans_right\n",
    "print(P_absx_g)"
   ]
  },
  {
   "cell_type": "code",
   "execution_count": null,
   "metadata": {},
   "outputs": [],
   "source": []
  }
 ],
 "metadata": {
  "kernelspec": {
   "display_name": "Python 3",
   "language": "python",
   "name": "python3"
  },
  "language_info": {
   "codemirror_mode": {
    "name": "ipython",
    "version": 3
   },
   "file_extension": ".py",
   "mimetype": "text/x-python",
   "name": "python",
   "nbconvert_exporter": "python",
   "pygments_lexer": "ipython3",
   "version": "3.8.5"
  }
 },
 "nbformat": 4,
 "nbformat_minor": 5
}
