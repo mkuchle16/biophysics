{
 "cells": [
  {
   "cell_type": "markdown",
   "metadata": {},
   "source": [
    "# PROBLEM 7.8\n",
    "\n",
    "In this problem, you will use maximum likelihood to estimate the mean of samples drawn from a known distribution.  In most real world analyses, you will not know what distribution the data came from.  Try not to bias your analysis when analyzing your simulated data.  Just see what the data tell you, based on the method of maximum likelihood."
   ]
  },
  {
   "cell_type": "code",
   "execution_count": 2,
   "metadata": {},
   "outputs": [],
   "source": [
    "import numpy as np\n",
    "import matplotlib.pyplot as plt\n",
    "\n",
    "from numpy.random import default_rng\n",
    "rng = default_rng()"
   ]
  },
  {
   "cell_type": "markdown",
   "metadata": {},
   "source": [
    "## (a) Normal Distribution\n",
    "\n",
    "Make 600 draws from a \"standard normal distribution\" — a normal distribution of mean 0 and standard deviation 1.  Plot the running average $x_n$ of this data as a function of $n$.  The running average is the average of the first $N$ data points.  For example,\n",
    "$$x_{10} = \\dfrac{1}{10} \\sum_{i=1}^{10} x_i\n",
    "\\qquad \\text{and} \\qquad\n",
    "x_{n} = \\dfrac{1}{n} \\sum_{i=1}^{n} x_i$$"
   ]
  },
  {
   "cell_type": "code",
   "execution_count": 3,
   "metadata": {},
   "outputs": [
    {
     "data": {
      "text/plain": [
       "[<matplotlib.lines.Line2D at 0x1e7aebbfbe0>]"
      ]
     },
     "execution_count": 3,
     "metadata": {},
     "output_type": "execute_result"
    },
    {
     "data": {
      "image/png": "[encoded data removed]",
      "text/plain": [
       "<Figure size 432x288 with 1 Axes>"
      ]
     },
     "metadata": {
      "needs_background": "light"
     },
     "output_type": "display_data"
    }
   ],
   "source": [
    "rand_num = rng.standard_normal(600)\n",
    "upper_lim = 600\n",
    "N = np.arange(0,upper_lim,1)\n",
    "x_n = np.zeros(upper_lim)\n",
    "a = 0\n",
    "for i in N:\n",
    "    a = a+1\n",
    "    x_n[i] = rand_num[0:i].sum()*(1/a)\n",
    "plt.figure()\n",
    "plt.plot(N,x_n)"
   ]
  },
  {
   "cell_type": "markdown",
   "metadata": {},
   "source": [
    "## (b) Maximum Likelihood\n",
    "\n",
    "Compute the posterior distribution $\\mathcal{P}(\\mu | \\{x_1, x_2, \\ldots, x_N\\})$ for $N \\in \\{1, 10, 100, 600\\}$.  Use a model in which the data is drawn from a normal distribution with standard deviation $\\sigma = 1$, but unknown mean $\\mu = x_t$.\n",
    "\n",
    "You should create four plots.  You can put them in separate subplots, or plot them on the same set of axes.  Comment on the trends you observe as you increase $N$."
   ]
  },
  {
   "cell_type": "code",
   "execution_count": null,
   "metadata": {},
   "outputs": [],
   "source": []
  },
  {
   "cell_type": "markdown",
   "metadata": {},
   "source": [
    "***Replace with your comments.***"
   ]
  },
  {
   "cell_type": "markdown",
   "metadata": {},
   "source": [
    "## (c) Cauchy Distribution\n",
    "\n",
    "Repeat part (a), except draw from a \"standard Cauchy distribution\" of mean 0 and standard deviation 1."
   ]
  },
  {
   "cell_type": "code",
   "execution_count": 5,
   "metadata": {},
   "outputs": [
    {
     "data": {
      "text/plain": [
       "[<matplotlib.lines.Line2D at 0x1e7aecb9280>]"
      ]
     },
     "execution_count": 5,
     "metadata": {},
     "output_type": "execute_result"
    },
    {
     "data": {
      "image/png": "[encoded data removed]",
      "text/plain": [
       "<Figure size 432x288 with 1 Axes>"
      ]
     },
     "metadata": {
      "needs_background": "light"
     },
     "output_type": "display_data"
    }
   ],
   "source": [
    "rand_num = rng.standard_cauchy(600)\n",
    "upper_lim = 600\n",
    "N = np.arange(0,upper_lim,1)\n",
    "x_n = np.zeros(upper_lim)\n",
    "a = 0\n",
    "for i in N:\n",
    "    a = a+1\n",
    "    x_n[i] = rand_num[0:i].sum()*(1/a)\n",
    "plt.figure()\n",
    "plt.plot(N,x_n)"
   ]
  },
  {
   "cell_type": "code",
   "execution_count": null,
   "metadata": {},
   "outputs": [],
   "source": []
  },
  {
   "cell_type": "markdown",
   "metadata": {},
   "source": [
    "## (d) Maximum Likelihood\n",
    "\n",
    "Adapt the method you used in part (b) to estimate the mean of the distribution that gave rise to this data set.  Assume a Cauchy distribution of width 1 but unknown average $\\mu = x_t$.  Compute the posterior distribution $\\mathcal{P}(\\mu | \\{x_1, x_2, \\ldots, x_N\\})$ for $N \\in \\{1, 10, 100, 600\\}$."
   ]
  },
  {
   "cell_type": "code",
   "execution_count": null,
   "metadata": {},
   "outputs": [],
   "source": []
  },
  {
   "cell_type": "markdown",
   "metadata": {},
   "source": [
    "## (e) Central Limit Theorem\n",
    "\n",
    "The central limit theorem asserts that the sample mean (running average) will approach the population mean (the true value of $\\mu$) as the sample size increases.  You probably observed this in (a) but not in (b).  Why?"
   ]
  },
  {
   "cell_type": "markdown",
   "metadata": {},
   "source": [
    "***Replace with your comments.***"
   ]
  }
 ],
 "metadata": {
  "kernelspec": {
   "display_name": "Python 3",
   "language": "python",
   "name": "python3"
  },
  "language_info": {
   "codemirror_mode": {
    "name": "ipython",
    "version": 3
   },
   "file_extension": ".py",
   "mimetype": "text/x-python",
   "name": "python",
   "nbconvert_exporter": "python",
   "pygments_lexer": "ipython3",
   "version": "3.8.5"
  }
 },
 "nbformat": 4,
 "nbformat_minor": 5
}
