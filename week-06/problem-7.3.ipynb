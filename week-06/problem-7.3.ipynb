{
 "cells": [
  {
   "cell_type": "markdown",
   "metadata": {},
   "source": [
    "# PROBLEM 7.3"
   ]
  },
  {
   "cell_type": "markdown",
   "metadata": {},
   "source": [
    "## (a) Probability Distribution\n",
    "\n",
    "What model should we apply to this data set?  There are many possibilities, but let's start simple.  Choose a probability distribution that only has ***one*** adjustable parameter: $\\mu$.  What is $\\mathcal{P}(\\ell)$?"
   ]
  },
  {
   "cell_type": "markdown",
   "metadata": {},
   "source": [
    "***Replace with your work.***"
   ]
  },
  {
   "cell_type": "markdown",
   "metadata": {},
   "source": [
    "## (b) Maximum Likelihood\n",
    "\n",
    "We now wish to compute the **likelihood** that the observed data came from a particular model of this form.  Using your model from (a), compute the probability of the data in the table.  This should be a function of the single paramter $\\mu$."
   ]
  },
  {
   "cell_type": "markdown",
   "metadata": {},
   "source": [
    "***Replace with your work.***"
   ]
  },
  {
   "cell_type": "markdown",
   "metadata": {},
   "source": [
    "Make a plot of your likelihood function for values of $\\mu$ from 0 to what seems large enough.  Comment on your plot."
   ]
  },
  {
   "cell_type": "code",
   "execution_count": null,
   "metadata": {},
   "outputs": [],
   "source": []
  },
  {
   "cell_type": "markdown",
   "metadata": {},
   "source": [
    "***Replace with your comments.***"
   ]
  },
  {
   "cell_type": "markdown",
   "metadata": {},
   "source": [
    "To keep the numbers manageable for a computer, we often focus on the **log likelihood** instead of the likelihood.  Compute the log likelihood analytically — i.e., derive a formula for it — as a function of $\\mu$."
   ]
  },
  {
   "cell_type": "markdown",
   "metadata": {},
   "source": [
    "***Replace with your work.***"
   ]
  },
  {
   "cell_type": "markdown",
   "metadata": {},
   "source": [
    "Make a plot of your log likelihood function for values of $\\mu$ from 0 to what seems large enough.  Comment on your plot."
   ]
  },
  {
   "cell_type": "code",
   "execution_count": null,
   "metadata": {},
   "outputs": [],
   "source": []
  },
  {
   "cell_type": "markdown",
   "metadata": {},
   "source": [
    "***Replace with your comments.***"
   ]
  },
  {
   "cell_type": "markdown",
   "metadata": {},
   "source": [
    "Use your plot or calculus to find the value of $\\mu$ that maximizes the likelihood of the data set."
   ]
  },
  {
   "cell_type": "markdown",
   "metadata": {},
   "source": [
    "***Replace with your work.***"
   ]
  },
  {
   "cell_type": "code",
   "execution_count": null,
   "metadata": {},
   "outputs": [],
   "source": []
  },
  {
   "cell_type": "markdown",
   "metadata": {},
   "source": [
    "## (c) Comparison\n",
    "\n",
    "Make a plot of the data, along with the prediction of your model using your optimal value of $\\mu$.  Comment on the result.  Does this look like a good fit?  Did we choose the right model for the data?"
   ]
  },
  {
   "cell_type": "code",
   "execution_count": null,
   "metadata": {},
   "outputs": [],
   "source": []
  },
  {
   "cell_type": "markdown",
   "metadata": {},
   "source": [
    "***Replace with your comments.***"
   ]
  },
  {
   "cell_type": "markdown",
   "metadata": {},
   "source": [
    "## (d) Confidence Interval\n",
    "\n",
    "We computed a single value of $\\mu_*$ for the data set, but it is better to report a range of values.\n",
    "\n",
    "You should be able to express your likelihood function as $f(\\mu)$.  We wish to find a range $\\Delta$ so that 90 percent of the likelihood occurs for $$\\mu_* - \\Delta < \\mu < \\mu_* + \\Delta$$.  That is, we wish to find $\\Delta$ such that\n",
    "$$ \\dfrac{ \\int_{\\mu_* - \\Delta}^{\\mu_* + \\Delta} d\\mu \\, f(\\mu) }{ \\int_{0}^{\\infty} d\\mu \\, f(\\mu) } = 0.9 $$\n",
    "\n",
    "One way to do the integrals is numerically.  Create a finely spaced array of $\\mu$ values and replace the integrals by Reimann sums.  You can also read about integration methods in Section 6.7 of _A Student's Guide to Python_ and use these methods.  You can work with a pencil and paper if you prefer.\n",
    "\n",
    "Whatever method you choose, report your credible interval for $\\mu$."
   ]
  },
  {
   "cell_type": "code",
   "execution_count": null,
   "metadata": {},
   "outputs": [],
   "source": []
  },
  {
   "cell_type": "markdown",
   "metadata": {},
   "source": [
    "***Report your credible interval for $\\mu$.***"
   ]
  },
  {
   "cell_type": "markdown",
   "metadata": {},
   "source": [
    "***Use this space for comments.***"
   ]
  }
 ],
 "metadata": {
  "kernelspec": {
   "display_name": "Python 3",
   "language": "python",
   "name": "python3"
  },
  "language_info": {
   "codemirror_mode": {
    "name": "ipython",
    "version": 3
   },
   "file_extension": ".py",
   "mimetype": "text/x-python",
   "name": "python",
   "nbconvert_exporter": "python",
   "pygments_lexer": "ipython3",
   "version": "3.8.5"
  }
 },
 "nbformat": 4,
 "nbformat_minor": 5
}
