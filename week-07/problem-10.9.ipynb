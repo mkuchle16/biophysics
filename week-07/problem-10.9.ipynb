{
 "cells": [
  {
   "cell_type": "markdown",
   "metadata": {},
   "source": [
    "# 10.9 SIMULATE SIMPLIFIED BURSTING PROCESS\n",
    "\n",
    "Use this notebook to store your work for this problem."
   ]
  },
  {
   "cell_type": "code",
   "execution_count": 2,
   "metadata": {},
   "outputs": [],
   "source": [
    "import numpy as np\n",
    "import matplotlib.pyplot as plt \n",
    "from numpy.random import default_rng\n",
    "rand = default_rng().random"
   ]
  },
  {
   "cell_type": "code",
   "execution_count": 53,
   "metadata": {},
   "outputs": [
    {
     "data": {
      "image/png": "[encoded data removed]",
      "text/plain": [
       "<Figure size 432x288 with 1 Axes>"
      ]
     },
     "metadata": {
      "needs_background": "light"
     },
     "output_type": "display_data"
    }
   ],
   "source": [
    "#testing the Gillespie Algorithm with burst switching\n",
    "l0 = 0 \n",
    "beta_start = 1/37\n",
    "beta_stop = 1/6\n",
    "beta_birth = 5*beta_start\n",
    "k_death = np.log(2)/50\n",
    "\n",
    "N = 100\n",
    "l = l0\n",
    "a = 0 \n",
    "T = 0\n",
    "l_r = np.zeros(N)\n",
    "t_r = np.zeros(N)\n",
    "for n in range(N):\n",
    "    rate = beta_birth+ k_death*l\n",
    "    t = - 1/rate * np.log(rand())\n",
    "    \n",
    "    if(T > 1/beta_start):\n",
    "        xi = beta_birth/rate\n",
    "        event = rand() < xi\n",
    "        \n",
    "        if event: \n",
    "             l = l+1\n",
    "\n",
    "        else: \n",
    "            l = l-1\n",
    "        a = a+1\n",
    "        if(a > 1/beta_stop):\n",
    "            a = 0\n",
    "            pass\n",
    "    else:\n",
    "        l = l\n",
    "    T = T+t\n",
    "    l_r[n] = l\n",
    "    t_r[n] = T\n",
    "    plt.plot(T,l,'.')"
   ]
  },
  {
   "cell_type": "code",
   "execution_count": 55,
   "metadata": {},
   "outputs": [
    {
     "data": {
      "text/plain": [
       "[<matplotlib.lines.Line2D at 0x1ea2a178220>]"
      ]
     },
     "execution_count": 55,
     "metadata": {},
     "output_type": "execute_result"
    },
    {
     "data": {
      "image/png": "[encoded data removed]",
      "text/plain": [
       "<Figure size 432x288 with 1 Axes>"
      ]
     },
     "metadata": {
      "needs_background": "light"
     },
     "output_type": "display_data"
    }
   ],
   "source": [
    "plt.plot(t_r[t_r <150],l_r[t_r < 150],\".\")"
   ]
  },
  {
   "cell_type": "code",
   "execution_count": null,
   "metadata": {},
   "outputs": [],
   "source": []
  }
 ],
 "metadata": {
  "kernelspec": {
   "display_name": "Python 3",
   "language": "python",
   "name": "python3"
  },
  "language_info": {
   "codemirror_mode": {
    "name": "ipython",
    "version": 3
   },
   "file_extension": ".py",
   "mimetype": "text/x-python",
   "name": "python",
   "nbconvert_exporter": "python",
   "pygments_lexer": "ipython3",
   "version": "3.8.5"
  }
 },
 "nbformat": 4,
 "nbformat_minor": 5
}
