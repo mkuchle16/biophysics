{
 "cells": [
  {
   "cell_type": "code",
   "execution_count": null,
   "metadata": {},
   "outputs": [],
   "source": [
    "import numpy as np \n",
    "import matplotlib.pyplot as plt \n",
    "from mpl_toolkits import mplot3d\n",
    "from numpy.random import default_rng\n",
    "rng = default_rng()\n",
    "rand = rng.random\n"
   ]
  },
  {
   "cell_type": "code",
   "execution_count": null,
   "metadata": {},
   "outputs": [],
   "source": [
    "num_steps = 500 #number of steps for the walk\n",
    "\n",
    "X_rand = 1*(rand(num_steps) > 0.8)\n",
    "Y_rand = 2*(rand(num_steps) < 0.5) - 1\n",
    "X = X_rand.cumsum()\n",
    "Y = Y_rand.cumsum()\n"
   ]
  },
  {
   "cell_type": "code",
   "execution_count": null,
   "metadata": {},
   "outputs": [],
   "source": [
    "plt.plot(X,Y)\n",
    "plt.title('Simple Random Walk')\n",
    "plt.savefig('Simple_walk.jpg')"
   ]
  },
  {
   "cell_type": "code",
   "execution_count": null,
   "metadata": {
    "tags": []
   },
   "outputs": [],
   "source": [
    "beta = 1\n",
    "rand_num = -((1/beta) * np.log(rand(800))).cumsum()\n",
    "time = rand_num[(rand_num > 0) * (rand_num < 400)]"
   ]
  },
  {
   "cell_type": "code",
   "execution_count": null,
   "metadata": {},
   "outputs": [],
   "source": [
    "x_step = [0,1]\n",
    "x_prob = [0.9,0.1]\n",
    "y_step = [-1,0,1]\n",
    "y_prob = [0.3,0.4,0.3]\n",
    "num_trials = 10\n",
    "X = np.random.choice(x_step, (num_trials,len(time)),x_prob)\n",
    "Y = np.random.choice(y_step, (num_trials,len(time)),y_prob)\n",
    "\n",
    "start_pt = np.arange(-10,10,1)\n",
    "y_start = np.random.choice(start_pt,num_trials,replace=False)\n",
    "for j in range(9):\n",
    "    Y[j,0] = Y[j,0]+y_start[j] "
   ]
  },
  {
   "cell_type": "code",
   "execution_count": null,
   "metadata": {},
   "outputs": [],
   "source": [
    "X_cords = np.empty(X.shape)\n",
    "Y_cords = np.empty(Y.shape)\n",
    "X_n = np.empty(num_trials) \n",
    "Y_n = np.empty(num_trials) \n",
    "X0 = np.empty(num_trials)\n",
    "Y0 = np.empty(num_trials) \n",
    "for i in range(len(X)):\n",
    "    X_cords[i] = X[i].cumsum()\n",
    "    Y_cords[i] = Y[i].cumsum()\n",
    "for n in range(10):\n",
    "    X_n[n] = X_cords[n,-1]\n",
    "    Y_n[n] = Y_cords[n,-1]\n",
    "    X0[n] = X_cords[n,0]\n",
    "    Y0[n] = Y_cords[n,0]\n",
    "length1 = X_n - X0\n",
    "vert_displacement = Y_n - Y0"
   ]
  },
  {
   "cell_type": "code",
   "execution_count": null,
   "metadata": {},
   "outputs": [],
   "source": [
    "print(length1)\n",
    "print(vert_displacement)\n",
    "print(vert_displacement.mean())\n",
    "print(length1.mean())\n",
    "plt.figure(figsize=(8,8))\n",
    "plt.hist(length1)\n",
    "plt.title('Histogram of Ending Lengths N=10')\n",
    "plt.savefig('N=10Hist.jpg')"
   ]
  },
  {
   "cell_type": "code",
   "execution_count": null,
   "metadata": {},
   "outputs": [],
   "source": [
    "plt.figure(figsize = (16,9))\n",
    "for q in range(10):\n",
    "    plt.plot(X_cords[q],Y_cords[q],label = 'Walk {}'.format(q+1))\n",
    "plt.axhline(y=vert_displacement.mean())\n",
    "plt.axvline(x=length1.mean())\n",
    "plt.plot(length1.mean(),vert_displacement.mean(),\"ob\",label='Average End Point')\n",
    "plt.title('Random Walk Growth of Lithium Dendrites')\n",
    "plt.ylabel('Vertical Growth')\n",
    "plt.xlabel('Horzontal Growth')\n",
    "plt.legend()\n",
    "plt.savefig('DendriteGrowth.jpg')"
   ]
  },
  {
   "cell_type": "code",
   "execution_count": null,
   "metadata": {},
   "outputs": [],
   "source": [
    "length = len(X_cords[0])\n",
    "coord_1 = np.empty([length,2])\n",
    "coord_2 = np.empty([length,2])\n",
    "coord_3 = np.empty([length,2])\n",
    "coord_4 = np.empty([length,2])\n",
    "coord_5 = np.empty([length,2])\n",
    "coord_6 = np.empty([length,2])\n",
    "coord_7 = np.empty([length,2])\n",
    "coord_8 = np.empty([length,2])\n",
    "coord_9 = np.empty([length,2])\n",
    "coord_10 = np.empty([length,2])\n",
    "for i in range(length):\n",
    "    coord_1[i] = [X_cords[0,i],Y_cords[0,i]]\n",
    "    coord_2[i] = [X_cords[1,i],Y_cords[1,i]]\n",
    "    coord_3[i] = [X_cords[2,i],Y_cords[2,i]]\n",
    "    coord_4[i] = [X_cords[3,i],Y_cords[3,i]]\n",
    "    coord_5[i] = [X_cords[4,i],Y_cords[4,i]]\n",
    "    coord_6[i] = [X_cords[5,i],Y_cords[5,i]]\n",
    "    coord_7[i] = [X_cords[6,i],Y_cords[6,i]]\n",
    "    coord_8[i] = [X_cords[7,i],Y_cords[7,i]]\n",
    "    coord_9[i] = [X_cords[8,i],Y_cords[8,i]]\n",
    "    coord_10[i] = [X_cords[9,i],Y_cords[9,i]]\n"
   ]
  },
  {
   "cell_type": "code",
   "execution_count": null,
   "metadata": {},
   "outputs": [],
   "source": [
    "test = (coord_1==coord_2)\n",
    "test = test.T\n",
    "test = test[0]*1 + test[1]*1 == 2\n",
    "collison = np.where(test == True)\n",
    "collison\n",
    "test"
   ]
  },
  {
   "cell_type": "code",
   "execution_count": null,
   "metadata": {},
   "outputs": [],
   "source": [
    "#print(coord_1)\n",
    "#print(coord_2)\n",
    "print(coord_1[(coord_1[:,0] >= 60) & (coord_1[:,0]<=80)]) \n",
    "print(coord_2[(coord_2[:,0] >= 60) & (coord_2[:,0]<=80)]) "
   ]
  },
  {
   "cell_type": "code",
   "execution_count": null,
   "metadata": {},
   "outputs": [],
   "source": [
    "#plt.figure()\n",
    "#plt.plot(X_cords[0],Y_cords[0])\n",
    "#plt.plot(X_cords[1,:int(collison[0][0])],Y_cords[1,:int(collison[0][0])])\n",
    "#plt.plot(X_cords[2],Y_cords[2])\n",
    "#plt.plot(X_cords[3],Y_cords[3])"
   ]
  },
  {
   "cell_type": "code",
   "execution_count": null,
   "metadata": {},
   "outputs": [],
   "source": [
    "fig=plt.figure(figsize = (8,8) )\n",
    "ax = fig.add_subplot(111,projection='3d')\n",
    "ax.plot3D(time,X_cords[0],Y_cords[0])\n",
    "ax.plot3D(time,X_cords[1],Y_cords[1])\n",
    "ax.set_xlabel('time')\n",
    "ax.set_ylabel('X')\n",
    "ax.set_zlabel('Y')\n",
    "ax.set_title('Time Evolution of 2D Dendrite Growth')\n",
    "fig.savefig('Time_Evolution.jpg')"
   ]
  },
  {
   "cell_type": "code",
   "execution_count": null,
   "metadata": {},
   "outputs": [],
   "source": [
    "z_step = [-1,0,1]\n",
    "z_prob = [0.3,0.4,0.3]\n",
    "Z = np.random.choice(z_step, (num_steps,len(time)),z_prob)\n",
    "Z_cords = np.empty(Z.shape)\n",
    "for i in range(len(Z)):\n",
    "    Z_cords[i] = Z[i].cumsum()"
   ]
  },
  {
   "cell_type": "code",
   "execution_count": null,
   "metadata": {
    "tags": []
   },
   "outputs": [],
   "source": [
    "fig=plt.figure(figsize = (8,8) )\n",
    "ax = fig.add_subplot(111,projection='3d')\n",
    "#ax.figure(dpi=200)\n",
    "ax.plot3D(X_cords[0],Y_cords[0],Z_cords[0],label='Walk 1')\n",
    "ax.plot3D(X_cords[1],Y_cords[1],Z_cords[1],label='Walk 2')\n",
    "ax.plot3D(X_cords[0,0],Y_cords[0,0],Z_cords[0,0],\"or\")\n",
    "ax.plot3D(X_cords[0,-1],Y_cords[0,-1],Z_cords[0,-1],\"or\")\n",
    "ax.plot3D(X_cords[1,0],Y_cords[1,0],Z_cords[1,0],\"ob\")\n",
    "ax.plot3D(X_cords[1,-1],Y_cords[1,-1],Z_cords[1,-1],\"ob\")\n",
    "#ax.plot3D(X_cords[2],Y_cords[2],Z_cords[2])\n",
    "ax.set_xlabel('X')\n",
    "ax.set_ylabel('Y')\n",
    "ax.set_zlabel('Z')\n",
    "ax.set_title('3D Dendrite Growth')\n",
    "ax.legend()\n",
    "fig.savefig('3D_growth.jpg')"
   ]
  },
  {
   "cell_type": "code",
   "execution_count": null,
   "metadata": {},
   "outputs": [],
   "source": []
  },
  {
   "cell_type": "code",
   "execution_count": null,
   "metadata": {},
   "outputs": [],
   "source": [
    "#Finding Intersections\n",
    "coordinates = np.array([coord_1,coord_2,coord_3,coord_4,coord_5,coord_6,coord_7,coord_8,coord_9,coord_10])\n",
    "mask = np.empty((len(coord_1),len(coord_1),2))\n",
    "for i in range(9):\n",
    "    test_range = coordinates[0]\n",
    "    comparison = coordinates[i+1]\n",
    "    a = 0\n",
    "    for j in range(len(coord_1)):\n",
    "        mask[j] = (comparison[j] == test_range)\n",
    "            "
   ]
  },
  {
   "cell_type": "code",
   "execution_count": null,
   "metadata": {},
   "outputs": [],
   "source": [
    "np.array(np.where(np.sum(mask[0],axis=1) ==2))"
   ]
  },
  {
   "cell_type": "code",
   "execution_count": null,
   "metadata": {},
   "outputs": [],
   "source": [
    "plt.figure(figsize=(16,9))\n",
    "plt.plot(X_cords[1],Y_cords[1])\n",
    "plt.plot(X_cords[2],Y_cords[2])\n",
    "plt.plot(X_cords[3],Y_cords[3])\n",
    "#plt.plot(X_cords[4],Y_cords[4])\n",
    "#plt.plot(X_cords[5],Y_cords[5])\n",
    "#plt.plot(X_cords[6],Y_cords[6])\n",
    "#plt.plot(X_cords[7],Y_cords[7])\n",
    "#plt.plot(X_cords[8],Y_cords[8])\n",
    "#plt.plot(X_cords[9],Y_cords[9])"
   ]
  },
  {
   "cell_type": "code",
   "execution_count": null,
   "metadata": {
    "tags": []
   },
   "outputs": [],
   "source": [
    "beta = 1\n",
    "rand_num = -((1/beta) * np.log(rand(800))).cumsum()\n",
    "time = rand_num[(rand_num > 0) * (rand_num < 400)]"
   ]
  },
  {
   "cell_type": "code",
   "execution_count": null,
   "metadata": {},
   "outputs": [],
   "source": [
    "x_step = [0,1]\n",
    "x_prob = [0.9,0.1]\n",
    "y_step = [-1,0,1]\n",
    "y_prob = [0.3,0.4,0.3]\n",
    "num_trials = 150\n",
    "X = np.random.choice(x_step, (num_trials,len(time)),x_prob)\n",
    "Y = np.random.choice(y_step, (num_trials,len(time)),y_prob)\n",
    "\n",
    "start_pt = np.arange(-10,10,0.1)\n",
    "y_start = np.random.choice(start_pt,num_trials,replace=False)\n",
    "for j in range(num_trials):\n",
    "    Y[j,0] = Y[j,0]+y_start[j] "
   ]
  },
  {
   "cell_type": "code",
   "execution_count": null,
   "metadata": {},
   "outputs": [],
   "source": [
    "X_cords = np.empty(X.shape)\n",
    "Y_cords = np.empty(Y.shape)\n",
    "X_n = np.empty(num_trials) \n",
    "Y_n = np.empty(num_trials) \n",
    "X0 = np.empty(num_trials)\n",
    "Y0 = np.empty(num_trials) \n",
    "for i in range(len(X)):\n",
    "    X_cords[i] = X[i].cumsum()\n",
    "    Y_cords[i] = Y[i].cumsum()\n",
    "for n in range(num_trials):\n",
    "    X_n[n] = X_cords[n,-1]\n",
    "    Y_n[n] = Y_cords[n,-1]\n",
    "    X0[n] = X_cords[n,0]\n",
    "    Y0[n] = Y_cords[n,0]\n",
    "length1 = X_n - X0\n",
    "vert_displacement = Y_n - Y0"
   ]
  },
  {
   "cell_type": "code",
   "execution_count": null,
   "metadata": {},
   "outputs": [],
   "source": [
    "print(length1)\n",
    "print(vert_displacement)\n",
    "print(vert_displacement.mean())\n",
    "print(length1.mean())\n",
    "plt.figure(figsize=(8,8))\n",
    "plt.hist(length1)\n",
    "plt.title('Histogram of Ending Lengths N=150')\n",
    "plt.savefig('N=150Hist.jpg')"
   ]
  },
  {
   "cell_type": "code",
   "execution_count": null,
   "metadata": {},
   "outputs": [],
   "source": []
  },
  {
   "cell_type": "code",
   "execution_count": null,
   "metadata": {},
   "outputs": [],
   "source": []
  }
 ],
 "metadata": {
  "kernelspec": {
   "display_name": "Python 3",
   "language": "python",
   "name": "python3"
  },
  "language_info": {
   "codemirror_mode": {
    "name": "ipython",
    "version": 3
   },
   "file_extension": ".py",
   "mimetype": "text/x-python",
   "name": "python",
   "nbconvert_exporter": "python",
   "pygments_lexer": "ipython3",
   "version": "3.8.5"
  }
 },
 "nbformat": 4,
 "nbformat_minor": 4
}
