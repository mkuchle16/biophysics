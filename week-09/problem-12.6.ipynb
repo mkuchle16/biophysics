{
 "cells": [
  {
   "cell_type": "markdown",
   "metadata": {},
   "source": [
    "# 12.6 ANALYSIS OF THE TWO-GENE TOGGLE\n",
    "\n",
    "Use this notebook to store your work for this problem."
   ]
  },
  {
   "cell_type": "markdown",
   "metadata": {},
   "source": [
    "## (a) Nondimensionalize the equations"
   ]
  },
  {
   "cell_type": "markdown",
   "metadata": {},
   "source": [
    "***Replace with your work.***"
   ]
  },
  {
   "cell_type": "markdown",
   "metadata": {},
   "source": [
    "## (b) Find the fixed point\n",
    "\n",
    "Make a plot of the two functions that must be satisfied in steady state, and find their point of intersection.\n",
    "\n",
    "Plot $\\bar{c}_1$ along the horizontal axis and $\\bar{c}_2$ along the vertical axis."
   ]
  },
  {
   "cell_type": "code",
   "execution_count": null,
   "metadata": {},
   "outputs": [],
   "source": []
  },
  {
   "cell_type": "markdown",
   "metadata": {},
   "source": [
    "## (c) Vector field\n",
    "\n",
    "Evaluate the equations from part (a) on a grid of points.  At each point, represent the derivatives as a vector using `plt.quiver`.\n",
    "$$\n",
    "\\vec{V} = \\begin{bmatrix} V_x \\\\ V_y \\end{bmatrix}\n",
    "= \\begin{bmatrix} \\dfrac{d\\bar{c}_1}{dt} \\\\ \\dfrac{d\\bar{c}_2}{dt} \\end{bmatrix}\n",
    "$$"
   ]
  },
  {
   "cell_type": "code",
   "execution_count": null,
   "metadata": {},
   "outputs": [],
   "source": []
  },
  {
   "cell_type": "markdown",
   "metadata": {},
   "source": [
    "## (d) Combined plot\n",
    "\n",
    "Plot the lines from (b) on top of the vector field from (c)."
   ]
  },
  {
   "cell_type": "code",
   "execution_count": null,
   "metadata": {},
   "outputs": [],
   "source": []
  },
  {
   "cell_type": "markdown",
   "metadata": {},
   "source": [
    "Is the fixed point you found in (b) stable or unstable?  How do you know?"
   ]
  },
  {
   "cell_type": "markdown",
   "metadata": {},
   "source": [
    "***Replace with your comments.***"
   ]
  },
  {
   "cell_type": "markdown",
   "metadata": {},
   "source": [
    "## (e) Three intersections\n",
    "\n",
    "Repeat (b)–(d) with different values of $\\bar{\\Gamma}$ until you find 3 fixed points in your plot."
   ]
  },
  {
   "cell_type": "code",
   "execution_count": null,
   "metadata": {
    "collapsed": true,
    "jupyter": {
     "outputs_hidden": true
    }
   },
   "outputs": [],
   "source": []
  },
  {
   "cell_type": "markdown",
   "metadata": {},
   "source": [
    "Which of the points are stable?  How do you know?"
   ]
  },
  {
   "cell_type": "markdown",
   "metadata": {},
   "source": [
    "***Replace with your comments.***"
   ]
  },
  {
   "cell_type": "markdown",
   "metadata": {},
   "source": [
    "## (f) No cooperativity\n",
    "\n",
    "Explore what happens when we set $n_1 = n_2 = 1$.  Repeat parts (a)–(e)."
   ]
  },
  {
   "cell_type": "code",
   "execution_count": null,
   "metadata": {},
   "outputs": [],
   "source": []
  },
  {
   "cell_type": "markdown",
   "metadata": {},
   "source": [
    "***Replace with your comments.***"
   ]
  }
 ],
 "metadata": {
  "kernelspec": {
   "display_name": "Python 3",
   "language": "python",
   "name": "python3"
  },
  "language_info": {
   "codemirror_mode": {
    "name": "ipython",
    "version": 3
   },
   "file_extension": ".py",
   "mimetype": "text/x-python",
   "name": "python",
   "nbconvert_exporter": "python",
   "pygments_lexer": "ipython3",
   "version": "3.8.5"
  }
 },
 "nbformat": 4,
 "nbformat_minor": 5
}
